{
 "cells": [
  {
   "cell_type": "code",
   "execution_count": 1,
   "metadata": {},
   "outputs": [],
   "source": [
    "import json\n",
    "val = json.load(open('/home/hemanth/Documents/dataset/MS_COCO_2017/annotations_trainval2017/annotations/captions_val2017.json', 'r'))\n",
    "train = json.load(open('/home/hemanth/Documents/dataset/MS_COCO_2017/annotations_trainval2017/annotations/captions_train2017.json', 'r'))"
   ]
  },
  {
   "cell_type": "code",
   "execution_count": 2,
   "metadata": {},
   "outputs": [
    {
     "name": "stdout",
     "output_type": "stream",
     "text": [
      "dict_keys(['info', 'licenses', 'images', 'annotations']) \n",
      "------------------------------------------\n",
      "{'description': 'COCO 2017 Dataset', 'url': 'http://cocodataset.org', 'version': '1.0', 'year': 2017, 'contributor': 'COCO Consortium', 'date_created': '2017/09/01'} \n",
      "------------------------------------------\n",
      "5000 \n",
      "------------------------------------------\n",
      "25014 \n",
      "------------------------------------------\n",
      "{'license': 4, 'file_name': '000000397133.jpg', 'coco_url': 'http://images.cocodataset.org/val2017/000000397133.jpg', 'height': 427, 'width': 640, 'date_captured': '2013-11-14 17:02:52', 'flickr_url': 'http://farm7.staticflickr.com/6116/6255196340_da26cf2c9e_z.jpg', 'id': 397133} \n",
      "------------------------------------------\n",
      "{'image_id': 179765, 'id': 38, 'caption': 'A black Honda motorcycle parked in front of a garage.'} \n",
      "------------------------------------------\n"
     ]
    }
   ],
   "source": [
    "print(val.keys(),\"\\n------------------------------------------\")\n",
    "print(val['info'],\"\\n------------------------------------------\")\n",
    "print(len(val['images']),\"\\n------------------------------------------\")\n",
    "print(len(val['annotations']),\"\\n------------------------------------------\")\n",
    "print(val['images'][0],\"\\n------------------------------------------\")\n",
    "print(val['annotations'][0],\"\\n------------------------------------------\")"
   ]
  },
  {
   "cell_type": "code",
   "execution_count": 14,
   "metadata": {},
   "outputs": [
    {
     "name": "stdout",
     "output_type": "stream",
     "text": [
      "[{'image_id': 133071, 'id': 829358, 'caption': 'Bread, sour cream, and guacamole are arrayed on a plate with a lemon slice.'}, {'image_id': 133071, 'id': 829471, 'caption': 'A white plate of food on a dining table.'}, {'image_id': 133071, 'id': 829655, 'caption': 'a slice of bread is covered with a sour cream and quacamole'}, {'image_id': 133071, 'id': 829693, 'caption': 'White Plate with a lot of guacamole and an extra large dollop of sour cream over meat'}, {'image_id': 133071, 'id': 829717, 'caption': 'A dinner plate has a lemon wedge garnishment.'}]\n"
     ]
    }
   ],
   "source": [
    "# combine all images and annotations together\n",
    "imgs = val['images'] + train['images']\n",
    "annots = val['annotations'] + train['annotations']\n",
    "\n",
    "# for efficiency lets group 'annotations' by image_id\n",
    "\n",
    "itoa = {}\n",
    "for a in annots:\n",
    "    imgid = a['image_id']\n",
    "    if not imgid in itoa: itoa[imgid] = []\n",
    "    if len(itoa[imgid]) < 5:             # some images were given more than 5 captions, so we are limiting as 5\n",
    "        itoa[imgid].append(a)\n",
    "print(itoa[imgid])"
   ]
  },
  {
   "cell_type": "code",
   "execution_count": 15,
   "metadata": {},
   "outputs": [
    {
     "name": "stdout",
     "output_type": "stream",
     "text": [
      " 123000/123288 : 99.77%\n",
      "123288/123288 : 100% completed....\n"
     ]
    }
   ],
   "source": [
    "import sys\n",
    "import os\n",
    "out = []\n",
    "image_folder_path='/home/hemanth/Documents/dataset/MS_COCO_2017'\n",
    "l = '/' + str(len(imgs)+1)\n",
    "for i,img in enumerate(imgs):\n",
    "    imgid = img['id']\n",
    "    \n",
    "    # train/val image files were separate --setting respective path \n",
    "    loc = 'train2017' if img in train['images'] else 'val2017'\n",
    "    if i % 1000 == 0:\n",
    "        sys.stdout.write('\\r '+ str(i) + l +' : '+'%.2f%%'%(i*100.0/123287))\n",
    "        sys.stdout.flush()\n",
    "        \n",
    "    # 'jimg' dictionary for each image with 'train or val' path seperately   \n",
    "    jimg = {}\n",
    "    jimg['file_path'] = os.path.join(image_folder_path,loc, img['file_name'])\n",
    "    jimg['id'] = imgid\n",
    "       # 'sents' list which will be added in jimg\n",
    "    sents = []\n",
    "    \n",
    "    #each image's( using imgid) sentences were placed in jimg dictionary with respective file path\n",
    "    annotsi = itoa[imgid]\n",
    "    for a in annotsi:\n",
    "        sents.append(a['caption'])\n",
    "    jimg['captions'] = sents\n",
    "    out.append(jimg)\n",
    "    \n",
    "print(\"\\n123288/123288 : 100% completed....\")\n"
   ]
  },
  {
   "cell_type": "code",
   "execution_count": 16,
   "metadata": {},
   "outputs": [],
   "source": [
    "json.dump(out, open('coco_raw.json', 'w'))"
   ]
  },
  {
   "cell_type": "code",
   "execution_count": 18,
   "metadata": {},
   "outputs": [
    {
     "name": "stdout",
     "output_type": "stream",
     "text": [
      "{'file_path': '/home/hemanth/Documents/dataset/MS_COCO_2017/val2017/000000397133.jpg', 'id': 397133, 'captions': ['A man is in a kitchen making pizzas.', 'Man in apron standing on front of oven with pans and bakeware', 'A baker is working in the kitchen rolling dough.', 'A person standing by a stove in a kitchen.', 'A table with pies being made and a person standing near a wall with pots and pans hanging on the wall.']} \n",
      "\n",
      " {'file_path': '/home/hemanth/Documents/dataset/MS_COCO_2017/train2017/000000475546.jpg', 'id': 475546, 'captions': ['The patrons enjoy their beverages at the bar.', 'People having a drink in a basement bar.', 'A group of friends enjoys a drink while sitting at a bar.', 'Group of people drinking wine at a public location.', 'Three women and a man are sitting at a bar']}\n"
     ]
    }
   ],
   "source": [
    "print(out[0],'\\n\\n',out[-1])"
   ]
  }
 ],
 "metadata": {
  "kernelspec": {
   "display_name": "Python 3",
   "language": "python",
   "name": "python3"
  },
  "language_info": {
   "codemirror_mode": {
    "name": "ipython",
    "version": 3
   },
   "file_extension": ".py",
   "mimetype": "text/x-python",
   "name": "python",
   "nbconvert_exporter": "python",
   "pygments_lexer": "ipython3",
   "version": "3.7.3"
  }
 },
 "nbformat": 4,
 "nbformat_minor": 2
}
